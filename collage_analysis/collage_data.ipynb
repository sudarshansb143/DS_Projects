{
 "cells": [
  {
   "cell_type": "code",
   "execution_count": 1,
   "metadata": {},
   "outputs": [],
   "source": [
    "import pandas as pd\n",
    "import numpy as np\n",
    "import seaborn as sns\n",
    "import matplotlib.pyplot as plt\n",
    "import warnings as ws\n",
    "ws.filterwarnings(\"ignore\")"
   ]
  },
  {
   "cell_type": "code",
   "execution_count": 2,
   "metadata": {},
   "outputs": [],
   "source": [
    "df = pd.read_csv(\"clg.csv\")"
   ]
  },
  {
   "cell_type": "code",
   "execution_count": 3,
   "metadata": {},
   "outputs": [
    {
     "data": {
      "text/html": [
       "<div>\n",
       "<style scoped>\n",
       "    .dataframe tbody tr th:only-of-type {\n",
       "        vertical-align: middle;\n",
       "    }\n",
       "\n",
       "    .dataframe tbody tr th {\n",
       "        vertical-align: top;\n",
       "    }\n",
       "\n",
       "    .dataframe thead th {\n",
       "        text-align: right;\n",
       "    }\n",
       "</style>\n",
       "<table border=\"1\" class=\"dataframe\">\n",
       "  <thead>\n",
       "    <tr style=\"text-align: right;\">\n",
       "      <th></th>\n",
       "      <th>education</th>\n",
       "      <th>income</th>\n",
       "      <th>women</th>\n",
       "      <th>prestige</th>\n",
       "      <th>census</th>\n",
       "      <th>type</th>\n",
       "    </tr>\n",
       "  </thead>\n",
       "  <tbody>\n",
       "    <tr>\n",
       "      <th>0</th>\n",
       "      <td>13.11</td>\n",
       "      <td>12351</td>\n",
       "      <td>11.16</td>\n",
       "      <td>68.8</td>\n",
       "      <td>1113</td>\n",
       "      <td>prof</td>\n",
       "    </tr>\n",
       "    <tr>\n",
       "      <th>1</th>\n",
       "      <td>12.26</td>\n",
       "      <td>25879</td>\n",
       "      <td>4.02</td>\n",
       "      <td>69.1</td>\n",
       "      <td>1130</td>\n",
       "      <td>prof</td>\n",
       "    </tr>\n",
       "    <tr>\n",
       "      <th>2</th>\n",
       "      <td>12.77</td>\n",
       "      <td>9271</td>\n",
       "      <td>15.70</td>\n",
       "      <td>63.4</td>\n",
       "      <td>1171</td>\n",
       "      <td>prof</td>\n",
       "    </tr>\n",
       "    <tr>\n",
       "      <th>3</th>\n",
       "      <td>11.42</td>\n",
       "      <td>8865</td>\n",
       "      <td>9.11</td>\n",
       "      <td>56.8</td>\n",
       "      <td>1175</td>\n",
       "      <td>prof</td>\n",
       "    </tr>\n",
       "    <tr>\n",
       "      <th>4</th>\n",
       "      <td>14.62</td>\n",
       "      <td>8403</td>\n",
       "      <td>11.68</td>\n",
       "      <td>73.5</td>\n",
       "      <td>2111</td>\n",
       "      <td>prof</td>\n",
       "    </tr>\n",
       "  </tbody>\n",
       "</table>\n",
       "</div>"
      ],
      "text/plain": [
       "   education  income  women  prestige  census  type\n",
       "0      13.11   12351  11.16      68.8    1113  prof\n",
       "1      12.26   25879   4.02      69.1    1130  prof\n",
       "2      12.77    9271  15.70      63.4    1171  prof\n",
       "3      11.42    8865   9.11      56.8    1175  prof\n",
       "4      14.62    8403  11.68      73.5    2111  prof"
      ]
     },
     "execution_count": 3,
     "metadata": {},
     "output_type": "execute_result"
    }
   ],
   "source": [
    "df.head()"
   ]
  },
  {
   "cell_type": "code",
   "execution_count": 4,
   "metadata": {},
   "outputs": [
    {
     "data": {
      "text/plain": [
       "bc      44\n",
       "prof    31\n",
       "wc      23\n",
       "Name: type, dtype: int64"
      ]
     },
     "execution_count": 4,
     "metadata": {},
     "output_type": "execute_result"
    }
   ],
   "source": [
    "df.type.value_counts()"
   ]
  },
  {
   "cell_type": "code",
   "execution_count": 6,
   "metadata": {},
   "outputs": [
    {
     "data": {
      "text/plain": [
       "(102, 6)"
      ]
     },
     "execution_count": 6,
     "metadata": {},
     "output_type": "execute_result"
    }
   ],
   "source": [
    "df.shape"
   ]
  },
  {
   "cell_type": "code",
   "execution_count": 7,
   "metadata": {},
   "outputs": [
    {
     "data": {
      "text/plain": [
       "education    0\n",
       "income       0\n",
       "women        0\n",
       "prestige     0\n",
       "census       0\n",
       "type         4\n",
       "dtype: int64"
      ]
     },
     "execution_count": 7,
     "metadata": {},
     "output_type": "execute_result"
    }
   ],
   "source": [
    "df.isna().sum()"
   ]
  },
  {
   "cell_type": "code",
   "execution_count": 8,
   "metadata": {},
   "outputs": [],
   "source": [
    "df.fillna(\"bc\", inplace = True)"
   ]
  },
  {
   "cell_type": "code",
   "execution_count": 9,
   "metadata": {},
   "outputs": [
    {
     "data": {
      "text/plain": [
       "education    0\n",
       "income       0\n",
       "women        0\n",
       "prestige     0\n",
       "census       0\n",
       "type         0\n",
       "dtype: int64"
      ]
     },
     "execution_count": 9,
     "metadata": {},
     "output_type": "execute_result"
    }
   ],
   "source": [
    "df.isna().sum()"
   ]
  },
  {
   "cell_type": "code",
   "execution_count": 44,
   "metadata": {},
   "outputs": [],
   "source": [
    "from sklearn.preprocessing import LabelEncoder\n",
    "encode = LabelEncoder()\n",
    "data = encode.fit_transform(df[\"type\"])"
   ]
  },
  {
   "cell_type": "code",
   "execution_count": 45,
   "metadata": {},
   "outputs": [],
   "source": [
    "df.type = data"
   ]
  },
  {
   "cell_type": "code",
   "execution_count": 46,
   "metadata": {},
   "outputs": [
    {
     "data": {
      "text/html": [
       "<div>\n",
       "<style scoped>\n",
       "    .dataframe tbody tr th:only-of-type {\n",
       "        vertical-align: middle;\n",
       "    }\n",
       "\n",
       "    .dataframe tbody tr th {\n",
       "        vertical-align: top;\n",
       "    }\n",
       "\n",
       "    .dataframe thead th {\n",
       "        text-align: right;\n",
       "    }\n",
       "</style>\n",
       "<table border=\"1\" class=\"dataframe\">\n",
       "  <thead>\n",
       "    <tr style=\"text-align: right;\">\n",
       "      <th></th>\n",
       "      <th>education</th>\n",
       "      <th>income</th>\n",
       "      <th>women</th>\n",
       "      <th>prestige</th>\n",
       "      <th>census</th>\n",
       "      <th>type</th>\n",
       "    </tr>\n",
       "  </thead>\n",
       "  <tbody>\n",
       "    <tr>\n",
       "      <th>0</th>\n",
       "      <td>13.11</td>\n",
       "      <td>12351</td>\n",
       "      <td>11.16</td>\n",
       "      <td>68.8</td>\n",
       "      <td>1113</td>\n",
       "      <td>1</td>\n",
       "    </tr>\n",
       "    <tr>\n",
       "      <th>1</th>\n",
       "      <td>12.26</td>\n",
       "      <td>25879</td>\n",
       "      <td>4.02</td>\n",
       "      <td>69.1</td>\n",
       "      <td>1130</td>\n",
       "      <td>1</td>\n",
       "    </tr>\n",
       "    <tr>\n",
       "      <th>2</th>\n",
       "      <td>12.77</td>\n",
       "      <td>9271</td>\n",
       "      <td>15.70</td>\n",
       "      <td>63.4</td>\n",
       "      <td>1171</td>\n",
       "      <td>1</td>\n",
       "    </tr>\n",
       "    <tr>\n",
       "      <th>3</th>\n",
       "      <td>11.42</td>\n",
       "      <td>8865</td>\n",
       "      <td>9.11</td>\n",
       "      <td>56.8</td>\n",
       "      <td>1175</td>\n",
       "      <td>1</td>\n",
       "    </tr>\n",
       "    <tr>\n",
       "      <th>4</th>\n",
       "      <td>14.62</td>\n",
       "      <td>8403</td>\n",
       "      <td>11.68</td>\n",
       "      <td>73.5</td>\n",
       "      <td>2111</td>\n",
       "      <td>1</td>\n",
       "    </tr>\n",
       "  </tbody>\n",
       "</table>\n",
       "</div>"
      ],
      "text/plain": [
       "   education  income  women  prestige  census  type\n",
       "0      13.11   12351  11.16      68.8    1113     1\n",
       "1      12.26   25879   4.02      69.1    1130     1\n",
       "2      12.77    9271  15.70      63.4    1171     1\n",
       "3      11.42    8865   9.11      56.8    1175     1\n",
       "4      14.62    8403  11.68      73.5    2111     1"
      ]
     },
     "execution_count": 46,
     "metadata": {},
     "output_type": "execute_result"
    }
   ],
   "source": [
    "df.head()"
   ]
  },
  {
   "cell_type": "code",
   "execution_count": 47,
   "metadata": {},
   "outputs": [],
   "source": [
    "tp = df.type.value_counts().reset_index()"
   ]
  },
  {
   "cell_type": "code",
   "execution_count": 31,
   "metadata": {},
   "outputs": [
    {
     "data": {
      "text/plain": [
       "<matplotlib.axes._subplots.AxesSubplot at 0x22472b98da0>"
      ]
     },
     "execution_count": 31,
     "metadata": {},
     "output_type": "execute_result"
    },
    {
     "data": {
      "image/png": "[encoded data removed]",
      "text/plain": [
       "<Figure size 432x288 with 1 Axes>"
      ]
     },
     "metadata": {},
     "output_type": "display_data"
    }
   ],
   "source": [
    "sns.set()\n",
    "sns.barplot(x=\"index\", y= \"type\", data = tp)"
   ]
  },
  {
   "cell_type": "code",
   "execution_count": 32,
   "metadata": {},
   "outputs": [],
   "source": [
    "#  Scaling the data\n",
    "from sklearn.preprocessing import StandardScaler"
   ]
  },
  {
   "cell_type": "code",
   "execution_count": 34,
   "metadata": {},
   "outputs": [],
   "source": [
    " scaler = StandardScaler()"
   ]
  },
  {
   "cell_type": "code",
   "execution_count": 48,
   "metadata": {},
   "outputs": [],
   "source": [
    "from sklearn.model_selection import train_test_split\n",
    "X = df.drop(columns=\"type\")\n",
    "y = df[\"type\"]\n",
    "X_train, X_test, y_train, y_test  = train_test_split(X, y, test_size = 0.2, random_state = 42, stratify = y)\n"
   ]
  },
  {
   "cell_type": "code",
   "execution_count": 49,
   "metadata": {},
   "outputs": [],
   "source": [
    "scaled = scaler.fit_transform(X_train)"
   ]
  },
  {
   "cell_type": "code",
   "execution_count": 50,
   "metadata": {},
   "outputs": [
    {
     "name": "stdout",
     "output_type": "stream",
     "text": [
      "[[ 2.57508973e-01 -1.52515784e-01  4.27163583e-01 -6.69945862e-01\n",
      "  -4.41929365e-01]\n",
      " [ 1.45229697e+00  3.46655003e-01 -4.75120563e-01  1.52225275e+00\n",
      "  -1.22672221e+00]\n",
      " [ 5.68378578e-01  4.41545569e+00 -7.26539136e-01  1.26707619e+00\n",
      "  -1.59650212e+00]\n",
      " [ 1.40735197e+00 -5.18745097e-01 -7.22600464e-01  1.48165648e+00\n",
      "  -1.07594548e+00]\n",
      " [ 1.67702199e+00  6.23713415e-01  2.86684276e-01  6.40733731e-01\n",
      "  -1.12117850e+00]\n",
      " [-1.19945821e+00 -6.32129506e-01  2.34496870e-01 -4.84362911e-01\n",
      "   1.07337669e+00]\n",
      " [ 1.88301992e+00  2.87510404e+00 -6.90106418e-01  2.03260586e+00\n",
      "  -1.13927171e+00]\n",
      " [-1.46163739e+00 -7.61578647e-01 -7.40324488e-01 -1.82790615e-01\n",
      "   6.58363766e-01]\n",
      " [-8.88588605e-01 -5.03146010e-01 -8.58484653e-01 -1.22669472e+00\n",
      "   1.48801268e+00]\n",
      " [ 1.45146466e-01  4.34428970e-01 -7.54766286e-01 -4.08969837e-01\n",
      "  -8.76040679e-02]\n",
      " [-1.43167406e+00 -3.76025092e-01 -8.40104183e-01 -4.84362911e-01\n",
      "   1.28747964e+00]\n",
      " [ 1.35491613e+00  1.14298452e-01  7.26174444e-01  1.60344529e+00\n",
      "  -1.14982608e+00]\n",
      " [-5.88955251e-01 -5.01283433e-01 -4.85295466e-01 -9.48320288e-01\n",
      "  -4.57007038e-01]\n",
      " [ 1.30164798e-01 -1.66950760e-01 -1.68232358e-01  5.76939591e-01\n",
      "  -7.73261213e-01]\n",
      " [-1.05338695e+00 -6.26308952e-01 -7.40652711e-01 -1.28468939e+00\n",
      "   1.43524083e+00]\n",
      " [-1.05713237e+00 -1.01760545e-01 -6.88793528e-01 -3.16178361e-01\n",
      "   1.11936359e+00]\n",
      " [-9.03570273e-01  3.24226465e-03 -8.38463070e-01 -2.52384222e-01\n",
      "   1.29124906e+00]\n",
      " [ 1.75942116e+00  1.68771085e+00 -7.70192752e-01  1.78902824e+00\n",
      "  -1.21541395e+00]\n",
      " [-4.84083578e-01 -7.98364554e-01  1.64060283e+00 -7.16341600e-01\n",
      "  -8.40733796e-01]\n",
      " [-1.20694904e+00 -6.99415121e-01 -8.22708381e-01 -1.20349685e+00\n",
      "   1.29388765e+00]\n",
      " [ 1.30164798e-01  1.81428851e-02 -5.63084241e-02 -8.80659838e-03\n",
      "  -7.29033374e-02]\n",
      " [ 6.43286917e-01 -5.35508295e-01  2.29639174e+00  1.01189963e+00\n",
      "  -8.42241563e-01]\n",
      " [ 1.62833157e+00  3.12895784e-01 -1.65934799e-02  1.47005754e+00\n",
      "  -1.21842949e+00]\n",
      " [-6.33900254e-01  3.26399472e-01 -8.14502814e-01 -3.68373566e-01\n",
      "   1.26863255e+00]\n",
      " [ 1.07775528e+00 -2.94770145e-01  1.89136496e+00  7.16126804e-01\n",
      "  -9.93018286e-01]\n",
      " [-5.70228167e-01 -3.26666786e-01 -6.08378971e-01 -6.46747993e-01\n",
      "  -4.49845143e-01]\n",
      " [-1.18447654e+00 -3.14792854e-01 -5.47657776e-01 -6.58346927e-01\n",
      "   1.43448694e+00]\n",
      " [-4.80338161e-01 -1.46749554e+00  2.30984887e+00 -1.23829365e+00\n",
      "   2.94614923e-01]\n",
      " [-1.16200404e+00 -4.14440754e-01 -2.91972308e-01 -1.27888992e+00\n",
      "   1.07413058e+00]\n",
      " [-3.83789635e-02 -1.03980117e+00  2.15328666e+00 -2.87181025e-01\n",
      "  -4.64545874e-01]\n",
      " [ 2.61254390e-01  3.00789030e-01 -5.91639615e-01  3.97156107e-01\n",
      "  -7.51021646e-01]\n",
      " [-6.97572342e-01 -1.25896446e-02 -8.58484653e-01 -6.93143731e-01\n",
      "   8.84151908e-01]\n",
      " [-1.12454987e+00 -8.84275944e-01  8.48273281e-01 -1.01791390e+00\n",
      "   2.84814436e-01]\n",
      " [ 1.95418284e+00  4.28251422e+00 -5.11881503e-01  2.31677976e+00\n",
      "  -8.49780399e-01]\n",
      " [-3.04303565e-01  5.42303254e-02 -8.25990608e-01  1.70976886e-01\n",
      "   1.26938643e+00]\n",
      " [ 1.45146466e-01 -4.33532174e-01  9.82844580e-01  2.23172091e-01\n",
      "  -4.42306307e-01]\n",
      " [ 2.16309387e-01 -5.97438999e-01  1.38130691e+00  1.24581148e-01\n",
      "  -4.65299757e-01]\n",
      " [ 1.29873488e+00 -1.34588475e-01  9.39190963e-01  4.55150779e-01\n",
      "  -1.14379501e+00]\n",
      " [ 2.53763557e-01  4.54218857e-01 -5.59473792e-01  5.53741722e-01\n",
      "  -1.57953974e+00]\n",
      " [-9.89714862e-01 -2.60545283e-01 -8.31898616e-01 -5.30758648e-01\n",
      "   1.21209128e+00]\n",
      " [-2.59358562e-01 -1.00580913e+00  1.36752156e+00 -1.20349685e+00\n",
      "  -8.60963006e-02]\n",
      " [ 1.83432950e+00  9.58278910e-01 -6.90106418e-01  1.76003090e+00\n",
      "  -1.22596832e+00]\n",
      " [-8.66116104e-01 -2.56820128e-01 -4.11445363e-01 -6.58346927e-01\n",
      "   1.18645924e+00]\n",
      " [-1.09833195e+00 -5.50641738e-01 -7.77741874e-01 -1.00631496e+00\n",
      "   1.28898741e+00]\n",
      " [ 1.67327657e+00  8.19051237e-01 -4.74464118e-02  1.27867513e+00\n",
      "  -8.34702727e-01]\n",
      " [ 5.83360246e-01  3.37419722e-02 -6.01486295e-01  7.39324673e-01\n",
      "  -1.20712123e+00]\n",
      " [ 5.04706490e-01 -9.07558164e-01  1.87199982e+00 -8.43929878e-01\n",
      "  -4.53991503e-01]\n",
      " [ 8.86739017e-01  1.26583703e+00 -4.92188143e-01  1.24967779e+00\n",
      "  -1.60291013e+00]\n",
      " [-1.63392657e+00 -9.46905115e-01  2.11751038e+00 -1.10490590e+00\n",
      "   1.20530633e+00]\n",
      " [-1.69468556e-01 -3.41101762e-01 -7.62643631e-01 -5.82953853e-01\n",
      "   1.19550584e+00]\n",
      " [ 1.62458615e+00  2.60743613e-01  6.77597487e-01  1.09309217e+00\n",
      "  -9.92264402e-01]\n",
      " [ 6.17068998e-01 -2.35633308e-01 -7.95794121e-01  8.55314018e-01\n",
      "  -1.20787512e+00]\n",
      " [-8.70693836e-02 -8.73798945e-01  2.29704819e+00 -5.30758648e-01\n",
      "  -4.48714318e-01]\n",
      " [-7.23790261e-01 -5.31007066e-02 -7.18005346e-01 -1.76991148e-01\n",
      "   1.11107088e+00]\n",
      " [-2.78085647e-01 -1.05252878e-01 -4.12758254e-01 -2.92980492e-01\n",
      "   1.56264716e+00]\n",
      " [-2.40631477e-01  1.86706155e-01 -8.32883284e-01  1.76776353e-01\n",
      "   1.21246822e+00]\n",
      " [ 7.59394841e-01  5.48744668e-01 -3.43175046e-01  9.36506559e-01\n",
      "  -1.58104750e+00]\n",
      " [ 1.15640904e+00  3.51777091e-01 -3.55319285e-01  3.79757706e-01\n",
      "  -1.19958240e+00]\n",
      " [ 7.66885675e-01 -4.03730933e-01  1.63732060e+00  1.17428472e+00\n",
      "  -8.32818018e-01]\n",
      " [-4.20411490e-01 -1.39601913e+00 -6.28728777e-01 -1.88203451e+00\n",
      "  -8.38346498e-02]\n",
      " [-3.04303565e-01 -1.05796130e+00 -7.37370484e-01 -1.38907980e+00\n",
      "  -8.30807662e-02]\n",
      " [ 2.31291055e-01 -6.01629799e-01  1.63338193e+00  2.59902050e-02\n",
      "  -4.60776456e-01]\n",
      " [ 1.07692296e-01  2.42583481e-01 -7.46888942e-02  2.23172091e-01\n",
      "  -6.57414431e-02]\n",
      " [-1.18447654e+00 -7.75780801e-01  1.28809167e-01 -1.57466275e+00\n",
      "   3.11954246e-01]\n",
      " [ 7.02381273e-02  4.60272234e-01 -8.04327911e-01  2.52169427e-01\n",
      "   2.81421960e-01]\n",
      " [ 5.72123995e-01  1.65721114e+00 -8.39447738e-01  1.09309217e+00\n",
      "   1.41187044e+00]\n",
      " [-8.77352355e-01 -8.12721923e-02 -7.82993437e-01 -6.58346927e-01\n",
      "   1.11860971e+00]\n",
      " [-1.49909156e+00 -7.98364554e-01  4.37338486e-01 -1.07010910e+00\n",
      "   1.09787791e+00]\n",
      " [ 3.21181061e-01  2.83327366e-01 -4.28841166e-01  2.79233607e-03\n",
      "  -7.32802792e-02]\n",
      " [-9.37279025e-01  4.57711190e-01 -8.37150179e-01  2.23172091e-01\n",
      "   1.28710270e+00]\n",
      " [-3.38012317e-01  1.32225761e-01 -2.99193207e-01 -3.33576763e-01\n",
      "  -8.87348933e-02]\n",
      " [-6.45968820e-02  2.22327950e-01 -6.61222823e-01  4.43551845e-01\n",
      "   2.92353273e-01]\n",
      " [ 1.95792826e+00  1.29587109e+00 -2.15496424e-01  2.16599361e+00\n",
      "  -1.00055712e+00]\n",
      " [-1.24440321e+00 -1.16971596e+00  1.51259598e+00 -1.39487926e+00\n",
      "   1.07639223e+00]\n",
      " [-7.35026511e-01 -7.94096147e-02 -6.68771944e-01 -2.05988484e-01\n",
      "   1.18721312e+00]\n",
      " [-4.76592744e-01  4.61203523e-01 -8.58484653e-01 -2.17587418e-01\n",
      "   2.81045018e-01]\n",
      " [ 9.64560457e-02 -6.60999459e-01  1.21686735e+00 -6.75745329e-01\n",
      "  -4.40421598e-01]\n",
      " [ 3.17435644e-01 -6.70079524e-01  2.34201470e+00 -7.26007378e-02\n",
      "  -4.72838594e-01]\n",
      " [ 1.45978781e+00  9.56649155e-01 -8.27631721e-01  1.24967779e+00\n",
      "  -1.21089065e+00]\n",
      " [-1.52530948e+00 -5.16416875e-01 -8.58484653e-01 -1.15710111e+00\n",
      "   1.26260148e+00]\n",
      " [-1.36051114e+00 -8.01391242e-01  2.43358882e-01 -1.73704783e+00\n",
      "   3.11200363e-01]]\n"
     ]
    }
   ],
   "source": [
    "print(scaled)"
   ]
  },
  {
   "cell_type": "code",
   "execution_count": 51,
   "metadata": {},
   "outputs": [],
   "source": [
    "scaled_test = scaler.transform(X_test)"
   ]
  },
  {
   "cell_type": "code",
   "execution_count": 52,
   "metadata": {},
   "outputs": [],
   "source": [
    "# Training the multiclass classifier"
   ]
  },
  {
   "cell_type": "code",
   "execution_count": 58,
   "metadata": {},
   "outputs": [],
   "source": [
    "from sklearn.linear_model import LogisticRegression\n",
    "from sklearn.model_selection import cross_val_score\n",
    "X_train_scaled = scaled\n",
    "X_test_scaled = scaled_test"
   ]
  },
  {
   "cell_type": "code",
   "execution_count": 59,
   "metadata": {},
   "outputs": [
    {
     "data": {
      "text/html": [
       "<div>\n",
       "<style scoped>\n",
       "    .dataframe tbody tr th:only-of-type {\n",
       "        vertical-align: middle;\n",
       "    }\n",
       "\n",
       "    .dataframe tbody tr th {\n",
       "        vertical-align: top;\n",
       "    }\n",
       "\n",
       "    .dataframe thead th {\n",
       "        text-align: right;\n",
       "    }\n",
       "</style>\n",
       "<table border=\"1\" class=\"dataframe\">\n",
       "  <thead>\n",
       "    <tr style=\"text-align: right;\">\n",
       "      <th></th>\n",
       "      <th>education</th>\n",
       "      <th>income</th>\n",
       "      <th>women</th>\n",
       "      <th>prestige</th>\n",
       "      <th>census</th>\n",
       "    </tr>\n",
       "  </thead>\n",
       "  <tbody>\n",
       "    <tr>\n",
       "      <th>0</th>\n",
       "      <td>13.11</td>\n",
       "      <td>12351</td>\n",
       "      <td>11.16</td>\n",
       "      <td>68.8</td>\n",
       "      <td>1113</td>\n",
       "    </tr>\n",
       "    <tr>\n",
       "      <th>1</th>\n",
       "      <td>12.26</td>\n",
       "      <td>25879</td>\n",
       "      <td>4.02</td>\n",
       "      <td>69.1</td>\n",
       "      <td>1130</td>\n",
       "    </tr>\n",
       "    <tr>\n",
       "      <th>2</th>\n",
       "      <td>12.77</td>\n",
       "      <td>9271</td>\n",
       "      <td>15.70</td>\n",
       "      <td>63.4</td>\n",
       "      <td>1171</td>\n",
       "    </tr>\n",
       "    <tr>\n",
       "      <th>3</th>\n",
       "      <td>11.42</td>\n",
       "      <td>8865</td>\n",
       "      <td>9.11</td>\n",
       "      <td>56.8</td>\n",
       "      <td>1175</td>\n",
       "    </tr>\n",
       "    <tr>\n",
       "      <th>4</th>\n",
       "      <td>14.62</td>\n",
       "      <td>8403</td>\n",
       "      <td>11.68</td>\n",
       "      <td>73.5</td>\n",
       "      <td>2111</td>\n",
       "    </tr>\n",
       "  </tbody>\n",
       "</table>\n",
       "</div>"
      ],
      "text/plain": [
       "   education  income  women  prestige  census\n",
       "0      13.11   12351  11.16      68.8    1113\n",
       "1      12.26   25879   4.02      69.1    1130\n",
       "2      12.77    9271  15.70      63.4    1171\n",
       "3      11.42    8865   9.11      56.8    1175\n",
       "4      14.62    8403  11.68      73.5    2111"
      ]
     },
     "execution_count": 59,
     "metadata": {},
     "output_type": "execute_result"
    }
   ],
   "source": [
    "X.head()"
   ]
  },
  {
   "cell_type": "code",
   "execution_count": 87,
   "metadata": {},
   "outputs": [
    {
     "data": {
      "text/plain": [
       "LogisticRegression(C=1.0, class_weight=None, dual=False, fit_intercept=True,\n",
       "                   intercept_scaling=1, l1_ratio=None, max_iter=100,\n",
       "                   multi_class='warn', n_jobs=None, penalty='l2',\n",
       "                   random_state=None, solver='warn', tol=0.0001, verbose=0,\n",
       "                   warm_start=False)"
      ]
     },
     "execution_count": 87,
     "metadata": {},
     "output_type": "execute_result"
    }
   ],
   "source": [
    "logistic = LogisticRegression()\n",
    "logistic.fit(X_train_scaled, y_train)"
   ]
  },
  {
   "cell_type": "code",
   "execution_count": 90,
   "metadata": {},
   "outputs": [
    {
     "name": "stdout",
     "output_type": "stream",
     "text": [
      "0.8641975308641975\n"
     ]
    }
   ],
   "source": [
    "# Training score\n",
    "print(logistic.score(X_train_scaled, y_train))"
   ]
  },
  {
   "cell_type": "code",
   "execution_count": 91,
   "metadata": {},
   "outputs": [
    {
     "name": "stdout",
     "output_type": "stream",
     "text": [
      "0.9523809523809523\n"
     ]
    }
   ],
   "source": [
    "# Testing score\n",
    "print(logistic.score(X_test_scaled, y_test))"
   ]
  },
  {
   "cell_type": "code",
   "execution_count": 65,
   "metadata": {},
   "outputs": [],
   "source": [
    "# evaluating the model\n",
    "from sklearn.metrics import classification_report, confusion_matrix"
   ]
  },
  {
   "cell_type": "code",
   "execution_count": 67,
   "metadata": {},
   "outputs": [
    {
     "name": "stdout",
     "output_type": "stream",
     "text": [
      "              precision    recall  f1-score   support\n",
      "\n",
      "           0       1.00      1.00      1.00        10\n",
      "           1       0.86      1.00      0.92         6\n",
      "           2       1.00      0.80      0.89         5\n",
      "\n",
      "    accuracy                           0.95        21\n",
      "   macro avg       0.95      0.93      0.94        21\n",
      "weighted avg       0.96      0.95      0.95        21\n",
      "\n"
     ]
    }
   ],
   "source": [
    "y_pred = logistic.predict(X_test)\n",
    "print(classification_report(y_test, y_pred))"
   ]
  },
  {
   "cell_type": "code",
   "execution_count": 68,
   "metadata": {},
   "outputs": [],
   "source": [
    "# Looks like the model is good"
   ]
  },
  {
   "cell_type": "code",
   "execution_count": 70,
   "metadata": {},
   "outputs": [
    {
     "data": {
      "image/png": "[encoded data removed]",
      "text/plain": [
       "<Figure size 432x288 with 2 Axes>"
      ]
     },
     "metadata": {},
     "output_type": "display_data"
    }
   ],
   "source": [
    "conf = confusion_matrix(y_test, y_pred)\n",
    "sns.heatmap(conf, annot = True, fmt = \".2g\", linewidths = 2)\n",
    "plt.show()"
   ]
  },
  {
   "cell_type": "code",
   "execution_count": 80,
   "metadata": {},
   "outputs": [
    {
     "name": "stdout",
     "output_type": "stream",
     "text": [
      "The Accuracy of logistic regresson  95.24 %\n"
     ]
    }
   ],
   "source": [
    "# Accuracy of the Logistic Regression\n",
    "from sklearn.metrics import accuracy_score\n",
    "print(\"The Accuracy of logistic regresson \" , round (accuracy_score(y_test, y_pred) * 100, 2), \"%\")"
   ]
  },
  {
   "cell_type": "code",
   "execution_count": 82,
   "metadata": {},
   "outputs": [],
   "source": [
    "# Fitting the more complex model\n",
    "from sklearn.ensemble import RandomForestClassifier"
   ]
  },
  {
   "cell_type": "code",
   "execution_count": 83,
   "metadata": {},
   "outputs": [],
   "source": [
    "rfe = RandomForestClassifier(n_estimators=100, random_state=42)"
   ]
  },
  {
   "cell_type": "code",
   "execution_count": 84,
   "metadata": {},
   "outputs": [
    {
     "data": {
      "text/plain": [
       "RandomForestClassifier(bootstrap=True, class_weight=None, criterion='gini',\n",
       "                       max_depth=None, max_features='auto', max_leaf_nodes=None,\n",
       "                       min_impurity_decrease=0.0, min_impurity_split=None,\n",
       "                       min_samples_leaf=1, min_samples_split=2,\n",
       "                       min_weight_fraction_leaf=0.0, n_estimators=100,\n",
       "                       n_jobs=None, oob_score=False, random_state=42, verbose=0,\n",
       "                       warm_start=False)"
      ]
     },
     "execution_count": 84,
     "metadata": {},
     "output_type": "execute_result"
    }
   ],
   "source": [
    "rfe.fit(X_train_scaled, y_train)"
   ]
  },
  {
   "cell_type": "code",
   "execution_count": 86,
   "metadata": {},
   "outputs": [
    {
     "data": {
      "text/plain": [
       "1.0"
      ]
     },
     "execution_count": 86,
     "metadata": {},
     "output_type": "execute_result"
    }
   ],
   "source": [
    "rfe.score(X_train_scaled, y_train)"
   ]
  },
  {
   "cell_type": "code",
   "execution_count": 93,
   "metadata": {},
   "outputs": [
    {
     "data": {
      "text/plain": [
       "0.9523809523809523"
      ]
     },
     "execution_count": 93,
     "metadata": {},
     "output_type": "execute_result"
    }
   ],
   "source": [
    "rfe.score(X_test_scaled, y_test)"
   ]
  },
  {
   "cell_type": "code",
   "execution_count": 94,
   "metadata": {},
   "outputs": [],
   "source": [
    "# looks like the score shows that the model is overfitting the data "
   ]
  },
  {
   "cell_type": "code",
   "execution_count": 96,
   "metadata": {},
   "outputs": [],
   "source": [
    "import pickle\n",
    "with open(\"model.pkl\", \"wb\") as f:\n",
    "    pickle.dump(logistic, f)"
   ]
  },
  {
   "cell_type": "code",
   "execution_count": 97,
   "metadata": {},
   "outputs": [],
   "source": [
    "# Done "
   ]
  },
  {
   "cell_type": "code",
   "execution_count": null,
   "metadata": {},
   "outputs": [],
   "source": []
  }
 ],
 "metadata": {
  "kernelspec": {
   "display_name": "Python 3",
   "language": "python",
   "name": "python3"
  },
  "language_info": {
   "codemirror_mode": {
    "name": "ipython",
    "version": 3
   },
   "file_extension": ".py",
   "mimetype": "text/x-python",
   "name": "python",
   "nbconvert_exporter": "python",
   "pygments_lexer": "ipython3",
   "version": "3.7.3"
  }
 },
 "nbformat": 4,
 "nbformat_minor": 2
}
